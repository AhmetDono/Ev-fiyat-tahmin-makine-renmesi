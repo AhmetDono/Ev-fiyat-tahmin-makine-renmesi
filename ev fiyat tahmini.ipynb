{
 "cells": [
  {
   "cell_type": "code",
   "execution_count": 6,
   "id": "38646640",
   "metadata": {},
   "outputs": [],
   "source": [
    "import pandas as pd\n",
    "import numpy as np\n",
    "import matplotlib.pyplot as plt\n",
    "import seaborn as sns"
   ]
  },
  {
   "cell_type": "markdown",
   "id": "52890da5",
   "metadata": {},
   "source": [
    "Data setini çağırma"
   ]
  },
  {
   "cell_type": "code",
   "execution_count": 7,
   "id": "6ec3c536",
   "metadata": {},
   "outputs": [],
   "source": [
    "df_main=pd.read_excel(\"bhv.xlsx\")\n",
    "df=df_main.copy()"
   ]
  },
  {
   "cell_type": "code",
   "execution_count": 8,
   "id": "1d32ef09",
   "metadata": {},
   "outputs": [
    {
     "data": {
      "text/html": [
       "<div>\n",
       "<style scoped>\n",
       "    .dataframe tbody tr th:only-of-type {\n",
       "        vertical-align: middle;\n",
       "    }\n",
       "\n",
       "    .dataframe tbody tr th {\n",
       "        vertical-align: top;\n",
       "    }\n",
       "\n",
       "    .dataframe thead th {\n",
       "        text-align: right;\n",
       "    }\n",
       "</style>\n",
       "<table border=\"1\" class=\"dataframe\">\n",
       "  <thead>\n",
       "    <tr style=\"text-align: right;\">\n",
       "      <th></th>\n",
       "      <th>location</th>\n",
       "      <th>size</th>\n",
       "      <th>total_sqft</th>\n",
       "      <th>bath</th>\n",
       "      <th>price</th>\n",
       "      <th>bhk</th>\n",
       "      <th>price_per_sqft</th>\n",
       "    </tr>\n",
       "  </thead>\n",
       "  <tbody>\n",
       "    <tr>\n",
       "      <th>0</th>\n",
       "      <td>Electronic City Phase II</td>\n",
       "      <td>2 BHK</td>\n",
       "      <td>10560</td>\n",
       "      <td>20</td>\n",
       "      <td>3907</td>\n",
       "      <td>2</td>\n",
       "      <td>3699</td>\n",
       "    </tr>\n",
       "    <tr>\n",
       "      <th>1</th>\n",
       "      <td>Chikka Tirupathi</td>\n",
       "      <td>4 Bedroom</td>\n",
       "      <td>26000</td>\n",
       "      <td>50</td>\n",
       "      <td>1200</td>\n",
       "      <td>4</td>\n",
       "      <td>4615</td>\n",
       "    </tr>\n",
       "    <tr>\n",
       "      <th>2</th>\n",
       "      <td>Uttarahalli</td>\n",
       "      <td>3 BHK</td>\n",
       "      <td>14400</td>\n",
       "      <td>20</td>\n",
       "      <td>620</td>\n",
       "      <td>3</td>\n",
       "      <td>4305</td>\n",
       "    </tr>\n",
       "    <tr>\n",
       "      <th>3</th>\n",
       "      <td>Lingadheeranahalli</td>\n",
       "      <td>3 BHK</td>\n",
       "      <td>15210</td>\n",
       "      <td>30</td>\n",
       "      <td>950</td>\n",
       "      <td>3</td>\n",
       "      <td>6245</td>\n",
       "    </tr>\n",
       "    <tr>\n",
       "      <th>4</th>\n",
       "      <td>Kothanur</td>\n",
       "      <td>2 BHK</td>\n",
       "      <td>12000</td>\n",
       "      <td>20</td>\n",
       "      <td>510</td>\n",
       "      <td>2</td>\n",
       "      <td>4250</td>\n",
       "    </tr>\n",
       "  </tbody>\n",
       "</table>\n",
       "</div>"
      ],
      "text/plain": [
       "                   location       size  total_sqft  bath  price  bhk  \\\n",
       "0  Electronic City Phase II      2 BHK       10560    20   3907    2   \n",
       "1          Chikka Tirupathi  4 Bedroom       26000    50   1200    4   \n",
       "2               Uttarahalli      3 BHK       14400    20    620    3   \n",
       "3        Lingadheeranahalli      3 BHK       15210    30    950    3   \n",
       "4                  Kothanur      2 BHK       12000    20    510    2   \n",
       "\n",
       "   price_per_sqft  \n",
       "0            3699  \n",
       "1            4615  \n",
       "2            4305  \n",
       "3            6245  \n",
       "4            4250  "
      ]
     },
     "execution_count": 8,
     "metadata": {},
     "output_type": "execute_result"
    }
   ],
   "source": [
    "df.head()"
   ]
  },
  {
   "cell_type": "code",
   "execution_count": 9,
   "id": "e780728b",
   "metadata": {},
   "outputs": [
    {
     "data": {
      "text/html": [
       "<div>\n",
       "<style scoped>\n",
       "    .dataframe tbody tr th:only-of-type {\n",
       "        vertical-align: middle;\n",
       "    }\n",
       "\n",
       "    .dataframe tbody tr th {\n",
       "        vertical-align: top;\n",
       "    }\n",
       "\n",
       "    .dataframe thead th {\n",
       "        text-align: right;\n",
       "    }\n",
       "</style>\n",
       "<table border=\"1\" class=\"dataframe\">\n",
       "  <thead>\n",
       "    <tr style=\"text-align: right;\">\n",
       "      <th></th>\n",
       "      <th>location</th>\n",
       "      <th>size</th>\n",
       "      <th>total_sqft</th>\n",
       "      <th>bath</th>\n",
       "      <th>price</th>\n",
       "      <th>bhk</th>\n",
       "      <th>price_per_sqft</th>\n",
       "    </tr>\n",
       "  </thead>\n",
       "  <tbody>\n",
       "    <tr>\n",
       "      <th>13195</th>\n",
       "      <td>Whitefield</td>\n",
       "      <td>5 Bedroom</td>\n",
       "      <td>34530</td>\n",
       "      <td>40</td>\n",
       "      <td>2310</td>\n",
       "      <td>5</td>\n",
       "      <td>6689</td>\n",
       "    </tr>\n",
       "    <tr>\n",
       "      <th>13196</th>\n",
       "      <td>other</td>\n",
       "      <td>4 BHK</td>\n",
       "      <td>36000</td>\n",
       "      <td>50</td>\n",
       "      <td>4000</td>\n",
       "      <td>4</td>\n",
       "      <td>11111</td>\n",
       "    </tr>\n",
       "    <tr>\n",
       "      <th>13197</th>\n",
       "      <td>Raja Rajeshwari Nagar</td>\n",
       "      <td>2 BHK</td>\n",
       "      <td>11410</td>\n",
       "      <td>20</td>\n",
       "      <td>600</td>\n",
       "      <td>2</td>\n",
       "      <td>5258</td>\n",
       "    </tr>\n",
       "    <tr>\n",
       "      <th>13198</th>\n",
       "      <td>Padmanabhanagar</td>\n",
       "      <td>4 BHK</td>\n",
       "      <td>46890</td>\n",
       "      <td>40</td>\n",
       "      <td>4880</td>\n",
       "      <td>4</td>\n",
       "      <td>10407</td>\n",
       "    </tr>\n",
       "    <tr>\n",
       "      <th>13199</th>\n",
       "      <td>Doddathoguru</td>\n",
       "      <td>1 BHK</td>\n",
       "      <td>5500</td>\n",
       "      <td>10</td>\n",
       "      <td>170</td>\n",
       "      <td>1</td>\n",
       "      <td>3090</td>\n",
       "    </tr>\n",
       "  </tbody>\n",
       "</table>\n",
       "</div>"
      ],
      "text/plain": [
       "                    location       size  total_sqft  bath  price  bhk  \\\n",
       "13195             Whitefield  5 Bedroom       34530    40   2310    5   \n",
       "13196                  other      4 BHK       36000    50   4000    4   \n",
       "13197  Raja Rajeshwari Nagar      2 BHK       11410    20    600    2   \n",
       "13198        Padmanabhanagar      4 BHK       46890    40   4880    4   \n",
       "13199           Doddathoguru      1 BHK        5500    10    170    1   \n",
       "\n",
       "       price_per_sqft  \n",
       "13195            6689  \n",
       "13196           11111  \n",
       "13197            5258  \n",
       "13198           10407  \n",
       "13199            3090  "
      ]
     },
     "execution_count": 9,
     "metadata": {},
     "output_type": "execute_result"
    }
   ],
   "source": [
    "df.tail()"
   ]
  },
  {
   "cell_type": "code",
   "execution_count": 10,
   "id": "d70d4018",
   "metadata": {},
   "outputs": [
    {
     "name": "stdout",
     "output_type": "stream",
     "text": [
      "<class 'pandas.core.frame.DataFrame'>\n",
      "RangeIndex: 13200 entries, 0 to 13199\n",
      "Data columns (total 7 columns):\n",
      " #   Column          Non-Null Count  Dtype \n",
      "---  ------          --------------  ----- \n",
      " 0   location        13200 non-null  object\n",
      " 1   size            13200 non-null  object\n",
      " 2   total_sqft      13200 non-null  int64 \n",
      " 3   bath            13200 non-null  int64 \n",
      " 4   price           13200 non-null  int64 \n",
      " 5   bhk             13200 non-null  int64 \n",
      " 6   price_per_sqft  13200 non-null  int64 \n",
      "dtypes: int64(5), object(2)\n",
      "memory usage: 722.0+ KB\n"
     ]
    }
   ],
   "source": [
    "df.info()"
   ]
  },
  {
   "cell_type": "markdown",
   "id": "56517422",
   "metadata": {},
   "source": [
    "Veri setimizin basit istatiksel değerlerini çağırıyoruz\n",
    "total_sqft,price,price_per_sqft\tdeğerlerinin standart sapmaları çok yüksek o yüzden bu verileri inceleyeceğiz"
   ]
  },
  {
   "cell_type": "code",
   "execution_count": 11,
   "id": "f57a625d",
   "metadata": {},
   "outputs": [
    {
     "data": {
      "text/html": [
       "<div>\n",
       "<style scoped>\n",
       "    .dataframe tbody tr th:only-of-type {\n",
       "        vertical-align: middle;\n",
       "    }\n",
       "\n",
       "    .dataframe tbody tr th {\n",
       "        vertical-align: top;\n",
       "    }\n",
       "\n",
       "    .dataframe thead th {\n",
       "        text-align: right;\n",
       "    }\n",
       "</style>\n",
       "<table border=\"1\" class=\"dataframe\">\n",
       "  <thead>\n",
       "    <tr style=\"text-align: right;\">\n",
       "      <th></th>\n",
       "      <th>count</th>\n",
       "      <th>mean</th>\n",
       "      <th>std</th>\n",
       "      <th>min</th>\n",
       "      <th>25%</th>\n",
       "      <th>50%</th>\n",
       "      <th>75%</th>\n",
       "      <th>max</th>\n",
       "    </tr>\n",
       "  </thead>\n",
       "  <tbody>\n",
       "    <tr>\n",
       "      <th>total_sqft</th>\n",
       "      <td>13200.0</td>\n",
       "      <td>16347.692273</td>\n",
       "      <td>18255.450144</td>\n",
       "      <td>10.0</td>\n",
       "      <td>11000.0</td>\n",
       "      <td>12750.0</td>\n",
       "      <td>16800.0</td>\n",
       "      <td>687325.0</td>\n",
       "    </tr>\n",
       "    <tr>\n",
       "      <th>bath</th>\n",
       "      <td>13200.0</td>\n",
       "      <td>26.911364</td>\n",
       "      <td>13.389151</td>\n",
       "      <td>10.0</td>\n",
       "      <td>20.0</td>\n",
       "      <td>20.0</td>\n",
       "      <td>30.0</td>\n",
       "      <td>400.0</td>\n",
       "    </tr>\n",
       "    <tr>\n",
       "      <th>price</th>\n",
       "      <td>13200.0</td>\n",
       "      <td>1917.297424</td>\n",
       "      <td>3918.371718</td>\n",
       "      <td>80.0</td>\n",
       "      <td>560.0</td>\n",
       "      <td>880.0</td>\n",
       "      <td>1900.0</td>\n",
       "      <td>95815.0</td>\n",
       "    </tr>\n",
       "    <tr>\n",
       "      <th>bhk</th>\n",
       "      <td>13200.0</td>\n",
       "      <td>2.800833</td>\n",
       "      <td>1.292843</td>\n",
       "      <td>1.0</td>\n",
       "      <td>2.0</td>\n",
       "      <td>3.0</td>\n",
       "      <td>3.0</td>\n",
       "      <td>43.0</td>\n",
       "    </tr>\n",
       "    <tr>\n",
       "      <th>price_per_sqft</th>\n",
       "      <td>13200.0</td>\n",
       "      <td>7920.336742</td>\n",
       "      <td>106727.160328</td>\n",
       "      <td>267.0</td>\n",
       "      <td>4267.0</td>\n",
       "      <td>5438.0</td>\n",
       "      <td>7317.0</td>\n",
       "      <td>12000000.0</td>\n",
       "    </tr>\n",
       "  </tbody>\n",
       "</table>\n",
       "</div>"
      ],
      "text/plain": [
       "                  count          mean            std    min      25%      50%  \\\n",
       "total_sqft      13200.0  16347.692273   18255.450144   10.0  11000.0  12750.0   \n",
       "bath            13200.0     26.911364      13.389151   10.0     20.0     20.0   \n",
       "price           13200.0   1917.297424    3918.371718   80.0    560.0    880.0   \n",
       "bhk             13200.0      2.800833       1.292843    1.0      2.0      3.0   \n",
       "price_per_sqft  13200.0   7920.336742  106727.160328  267.0   4267.0   5438.0   \n",
       "\n",
       "                    75%         max  \n",
       "total_sqft      16800.0    687325.0  \n",
       "bath               30.0       400.0  \n",
       "price            1900.0     95815.0  \n",
       "bhk                 3.0        43.0  \n",
       "price_per_sqft   7317.0  12000000.0  "
      ]
     },
     "execution_count": 11,
     "metadata": {},
     "output_type": "execute_result"
    }
   ],
   "source": [
    "df.describe().T"
   ]
  },
  {
   "cell_type": "markdown",
   "id": "a12d584e",
   "metadata": {},
   "source": [
    "Grafiklerden de gözüktüğü üzere çok iyi veri değiller"
   ]
  },
  {
   "cell_type": "code",
   "execution_count": 12,
   "id": "82937525",
   "metadata": {},
   "outputs": [
    {
     "data": {
      "image/png": "[encoded data removed]",
      "text/plain": [
       "<Figure size 432x288 with 1 Axes>"
      ]
     },
     "metadata": {
      "needs_background": "light"
     },
     "output_type": "display_data"
    }
   ],
   "source": [
    "plt.hist(df, bins=20, rwidth=0.8)\n",
    "plt.xlabel('Price per square ft')\n",
    "plt.ylabel('Count')\n",
    "plt.show()"
   ]
  },
  {
   "cell_type": "code",
   "execution_count": 13,
   "id": "589f87f8",
   "metadata": {},
   "outputs": [
    {
     "data": {
      "image/png": "[encoded data removed]",
      "text/plain": [
       "<Figure size 432x288 with 1 Axes>"
      ]
     },
     "metadata": {
      "needs_background": "light"
     },
     "output_type": "display_data"
    }
   ],
   "source": [
    "plt.hist(df.total_sqft, bins=20, rwidth=0.8)\n",
    "plt.xlabel('total_sqft')\n",
    "plt.ylabel('Count')\n",
    "plt.show()"
   ]
  },
  {
   "cell_type": "code",
   "execution_count": 14,
   "id": "54eeb496",
   "metadata": {},
   "outputs": [
    {
     "data": {
      "image/png": "[encoded data removed]",
      "text/plain": [
       "<Figure size 432x288 with 1 Axes>"
      ]
     },
     "metadata": {
      "needs_background": "light"
     },
     "output_type": "display_data"
    }
   ],
   "source": [
    "plt.hist(df.price, bins=20, rwidth=0.8)\n",
    "plt.xlabel('price')\n",
    "plt.ylabel('Count')\n",
    "plt.show()"
   ]
  },
  {
   "cell_type": "code",
   "execution_count": 15,
   "id": "6f8b239a",
   "metadata": {},
   "outputs": [
    {
     "name": "stderr",
     "output_type": "stream",
     "text": [
      "C:\\Users\\ahmet\\anaconda3\\lib\\site-packages\\seaborn\\_decorators.py:43: FutureWarning: Pass the following variable as a keyword arg: x. From version 0.12, the only valid positional argument will be `data`, and passing other arguments without an explicit keyword will result in an error or misinterpretation.\n",
      "  FutureWarning\n"
     ]
    },
    {
     "data": {
      "image/png": "[encoded data removed]",
      "text/plain": [
       "<Figure size 720x432 with 1 Axes>"
      ]
     },
     "metadata": {
      "needs_background": "light"
     },
     "output_type": "display_data"
    }
   ],
   "source": [
    "plt.figure(figsize = (10,6))\n",
    "sns.boxplot(df.price_per_sqft)\n",
    "plt.title('price_per_sqft',size=10)\n",
    "plt.show()"
   ]
  },
  {
   "cell_type": "markdown",
   "id": "d765cb5f",
   "metadata": {},
   "source": [
    "Bu grafikleri düzeltme zamanı 😎"
   ]
  },
  {
   "cell_type": "code",
   "execution_count": 16,
   "id": "8a2a1a9d",
   "metadata": {},
   "outputs": [
    {
     "data": {
      "image/png": "[encoded data removed]",
      "text/plain": [
       "<Figure size 432x288 with 1 Axes>"
      ]
     },
     "metadata": {
      "needs_background": "light"
     },
     "output_type": "display_data"
    }
   ],
   "source": [
    "#Above chart confirms our understanding that this dataset has some bad outliers.\n",
    "#Because we see only one bar with more than 12000 data points but\n",
    "#on the right hand side there are data points that have higher value for price per sqft but\n",
    "#count of these data points is very tiny compared to 12000 hence we can hardly see any bar\n",
    "#Using log scale can make visualization little better\n",
    "plt.hist(df.price_per_sqft, bins=20, rwidth=0.8)\n",
    "plt.xlabel('Price per square ft')\n",
    "plt.ylabel('Count')\n",
    "plt.yscale('log')\n",
    "plt.show()"
   ]
  },
  {
   "cell_type": "code",
   "execution_count": 17,
   "id": "7465f9c6",
   "metadata": {},
   "outputs": [
    {
     "data": {
      "text/plain": [
       "(1366.184, 50959.36200000098)"
      ]
     },
     "execution_count": 17,
     "metadata": {},
     "output_type": "execute_result"
    }
   ],
   "source": [
    "#datanın %99,9. ve %0,01.i değerlerini alıp bunları alt ve üst sınır belirliyoruz\n",
    "lower_limit, upper_limit = df.price_per_sqft.quantile([0.001, 0.999])\n",
    "lower_limit, upper_limit"
   ]
  },
  {
   "cell_type": "code",
   "execution_count": 18,
   "id": "2e2cf075",
   "metadata": {},
   "outputs": [
    {
     "data": {
      "text/plain": [
       "(13172, 7)"
      ]
     },
     "execution_count": 18,
     "metadata": {},
     "output_type": "execute_result"
    }
   ],
   "source": [
    "#28 değer silindi\n",
    "df = df[(df.price_per_sqft<upper_limit) & (df.price_per_sqft>lower_limit)]\n",
    "df.shape"
   ]
  },
  {
   "cell_type": "code",
   "execution_count": 19,
   "id": "d46b5e2c",
   "metadata": {},
   "outputs": [
    {
     "data": {
      "text/plain": [
       "(23227.73653589429, -9900.429065502549)"
      ]
     },
     "execution_count": 19,
     "metadata": {},
     "output_type": "execute_result"
    }
   ],
   "source": [
    "#Now remove outliers using 4 standard deviation\n",
    "#ortlamadan 4 standart sapma kadar uzakta olan değerler üst limit ve alt limit olarak belirlendi\n",
    "max_limit = df.price_per_sqft.mean() + 4*df.price_per_sqft.std()\n",
    "min_limit = df.price_per_sqft.mean() - 4*df.price_per_sqft.std()\n",
    "max_limit, min_limit"
   ]
  },
  {
   "cell_type": "code",
   "execution_count": 20,
   "id": "5c108942",
   "metadata": {},
   "outputs": [
    {
     "data": {
      "text/plain": [
       "(13047, 7)"
      ]
     },
     "execution_count": 20,
     "metadata": {},
     "output_type": "execute_result"
    }
   ],
   "source": [
    "#125 veri daha silindi\n",
    "df = df[(df.price_per_sqft>min_limit) & (df.price_per_sqft<max_limit)]\n",
    "df.shape"
   ]
  },
  {
   "cell_type": "code",
   "execution_count": 21,
   "id": "36759201",
   "metadata": {},
   "outputs": [
    {
     "data": {
      "image/png": "[encoded data removed]",
      "text/plain": [
       "<Figure size 432x288 with 1 Axes>"
      ]
     },
     "metadata": {
      "needs_background": "light"
     },
     "output_type": "display_data"
    }
   ],
   "source": [
    "plt.hist(df.price_per_sqft, bins=20, rwidth=0.8)\n",
    "plt.xlabel('Price per square ft')\n",
    "plt.ylabel('Count')\n",
    "plt.show()"
   ]
  },
  {
   "cell_type": "code",
   "execution_count": 22,
   "id": "91596706",
   "metadata": {},
   "outputs": [
    {
     "name": "stderr",
     "output_type": "stream",
     "text": [
      "C:\\Users\\ahmet\\anaconda3\\lib\\site-packages\\seaborn\\_decorators.py:43: FutureWarning: Pass the following variable as a keyword arg: x. From version 0.12, the only valid positional argument will be `data`, and passing other arguments without an explicit keyword will result in an error or misinterpretation.\n",
      "  FutureWarning\n"
     ]
    },
    {
     "data": {
      "image/png": "[encoded data removed]",
      "text/plain": [
       "<Figure size 720x432 with 1 Axes>"
      ]
     },
     "metadata": {
      "needs_background": "light"
     },
     "output_type": "display_data"
    }
   ],
   "source": [
    "plt.figure(figsize = (10,6))\n",
    "sns.boxplot(df.price_per_sqft)\n",
    "plt.title('price_per_sqft',size=10)\n",
    "plt.show()"
   ]
  },
  {
   "cell_type": "markdown",
   "id": "00a0c617",
   "metadata": {},
   "source": [
    "2. grafiği düzeltme"
   ]
  },
  {
   "cell_type": "code",
   "execution_count": 23,
   "id": "306cf23f",
   "metadata": {},
   "outputs": [
    {
     "data": {
      "image/png": "[encoded data removed]",
      "text/plain": [
       "<Figure size 432x288 with 1 Axes>"
      ]
     },
     "metadata": {
      "needs_background": "light"
     },
     "output_type": "display_data"
    }
   ],
   "source": [
    "#Above chart confirms our understanding that this dataset has some bad outliers.\n",
    "#Because we see only one bar with more than 12000 data points but\n",
    "#on the right hand side there are data points that have higher value for price per sqft but\n",
    "#count of these data points is very tiny compared to 12000 hence we can hardly see any bar\n",
    "#Using log scale can make visualization little better\n",
    "plt.hist(df.total_sqft, bins=20, rwidth=0.8)\n",
    "plt.xlabel('total_sqft')\n",
    "plt.ylabel('Count')\n",
    "plt.yscale('log')\n",
    "plt.show()"
   ]
  },
  {
   "cell_type": "code",
   "execution_count": 24,
   "id": "9dec34d4",
   "metadata": {},
   "outputs": [
    {
     "data": {
      "text/plain": [
       "(3606.9, 211175.676000004)"
      ]
     },
     "execution_count": 24,
     "metadata": {},
     "output_type": "execute_result"
    }
   ],
   "source": [
    "#datanın %99,9. ve %0,01.i değerlerini alıp bunları alt ve üst sınır belirliyoruz\n",
    "lower_limit, upper_limit = df.total_sqft.quantile([0.001, 0.999])\n",
    "lower_limit, upper_limit"
   ]
  },
  {
   "cell_type": "code",
   "execution_count": 25,
   "id": "da28544e",
   "metadata": {},
   "outputs": [
    {
     "data": {
      "text/plain": [
       "(13019, 7)"
      ]
     },
     "execution_count": 25,
     "metadata": {},
     "output_type": "execute_result"
    }
   ],
   "source": [
    "#30 küsür değer silindi\n",
    "df = df[(df.total_sqft<upper_limit) & (df.total_sqft>lower_limit)]\n",
    "df.shape"
   ]
  },
  {
   "cell_type": "code",
   "execution_count": 26,
   "id": "b561a612",
   "metadata": {},
   "outputs": [
    {
     "data": {
      "text/html": [
       "<div>\n",
       "<style scoped>\n",
       "    .dataframe tbody tr th:only-of-type {\n",
       "        vertical-align: middle;\n",
       "    }\n",
       "\n",
       "    .dataframe tbody tr th {\n",
       "        vertical-align: top;\n",
       "    }\n",
       "\n",
       "    .dataframe thead th {\n",
       "        text-align: right;\n",
       "    }\n",
       "</style>\n",
       "<table border=\"1\" class=\"dataframe\">\n",
       "  <thead>\n",
       "    <tr style=\"text-align: right;\">\n",
       "      <th></th>\n",
       "      <th>location</th>\n",
       "      <th>size</th>\n",
       "      <th>total_sqft</th>\n",
       "      <th>bath</th>\n",
       "      <th>price</th>\n",
       "      <th>bhk</th>\n",
       "      <th>price_per_sqft</th>\n",
       "      <th>zscore</th>\n",
       "    </tr>\n",
       "  </thead>\n",
       "  <tbody>\n",
       "    <tr>\n",
       "      <th>5569</th>\n",
       "      <td>KR Puram</td>\n",
       "      <td>6 Bedroom</td>\n",
       "      <td>20000</td>\n",
       "      <td>60</td>\n",
       "      <td>850</td>\n",
       "      <td>6</td>\n",
       "      <td>4250</td>\n",
       "      <td>0.347721</td>\n",
       "    </tr>\n",
       "    <tr>\n",
       "      <th>9714</th>\n",
       "      <td>other</td>\n",
       "      <td>2 BHK</td>\n",
       "      <td>12250</td>\n",
       "      <td>20</td>\n",
       "      <td>480</td>\n",
       "      <td>2</td>\n",
       "      <td>3918</td>\n",
       "      <td>-0.287222</td>\n",
       "    </tr>\n",
       "    <tr>\n",
       "      <th>8019</th>\n",
       "      <td>other</td>\n",
       "      <td>8 Bedroom</td>\n",
       "      <td>18500</td>\n",
       "      <td>120</td>\n",
       "      <td>3000</td>\n",
       "      <td>8</td>\n",
       "      <td>16216</td>\n",
       "      <td>0.224829</td>\n",
       "    </tr>\n",
       "    <tr>\n",
       "      <th>1974</th>\n",
       "      <td>Ananth Nagar</td>\n",
       "      <td>1 BHK</td>\n",
       "      <td>5000</td>\n",
       "      <td>20</td>\n",
       "      <td>140</td>\n",
       "      <td>1</td>\n",
       "      <td>2800</td>\n",
       "      <td>-0.881200</td>\n",
       "    </tr>\n",
       "    <tr>\n",
       "      <th>5150</th>\n",
       "      <td>Sultan Palaya</td>\n",
       "      <td>2 BHK</td>\n",
       "      <td>9000</td>\n",
       "      <td>20</td>\n",
       "      <td>450</td>\n",
       "      <td>2</td>\n",
       "      <td>5000</td>\n",
       "      <td>-0.553488</td>\n",
       "    </tr>\n",
       "  </tbody>\n",
       "</table>\n",
       "</div>"
      ],
      "text/plain": [
       "           location       size  total_sqft  bath  price  bhk  price_per_sqft  \\\n",
       "5569       KR Puram  6 Bedroom       20000    60    850    6            4250   \n",
       "9714          other      2 BHK       12250    20    480    2            3918   \n",
       "8019          other  8 Bedroom       18500   120   3000    8           16216   \n",
       "1974   Ananth Nagar      1 BHK        5000    20    140    1            2800   \n",
       "5150  Sultan Palaya      2 BHK        9000    20    450    2            5000   \n",
       "\n",
       "        zscore  \n",
       "5569  0.347721  \n",
       "9714 -0.287222  \n",
       "8019  0.224829  \n",
       "1974 -0.881200  \n",
       "5150 -0.553488  "
      ]
     },
     "execution_count": 26,
     "metadata": {},
     "output_type": "execute_result"
    }
   ],
   "source": [
    "#z score= (x-x.mean)/standart sapma\n",
    "df['zscore'] = (df.total_sqft-df.total_sqft.mean())/df.total_sqft.std()\n",
    "df.sample(5)"
   ]
  },
  {
   "cell_type": "code",
   "execution_count": 27,
   "id": "0f23e7bc",
   "metadata": {},
   "outputs": [
    {
     "data": {
      "text/plain": [
       "(12921, 8)"
      ]
     },
     "execution_count": 27,
     "metadata": {},
     "output_type": "execute_result"
    }
   ],
   "source": [
    "#100küsür veri silindi\n",
    "df = df[(df.zscore>-4)&(df.zscore<4)]\n",
    "df.shape"
   ]
  },
  {
   "cell_type": "code",
   "execution_count": 28,
   "id": "e49e9dd5",
   "metadata": {},
   "outputs": [
    {
     "data": {
      "image/png": "[encoded data removed]",
      "text/plain": [
       "<Figure size 432x288 with 1 Axes>"
      ]
     },
     "metadata": {
      "needs_background": "light"
     },
     "output_type": "display_data"
    }
   ],
   "source": [
    "plt.hist(df.total_sqft, bins=20, rwidth=0.8)\n",
    "plt.xlabel('total_sqft')\n",
    "plt.ylabel('Count')\n",
    "plt.show()"
   ]
  },
  {
   "cell_type": "markdown",
   "id": "fe5badef",
   "metadata": {},
   "source": [
    "3.grafik"
   ]
  },
  {
   "cell_type": "code",
   "execution_count": 29,
   "id": "5a7ef3c2",
   "metadata": {},
   "outputs": [
    {
     "data": {
      "image/png": "[encoded data removed]",
      "text/plain": [
       "<Figure size 432x288 with 1 Axes>"
      ]
     },
     "metadata": {
      "needs_background": "light"
     },
     "output_type": "display_data"
    }
   ],
   "source": [
    "#Above chart confirms our understanding that this dataset has some bad outliers.\n",
    "#Because we see only one bar with more than 12000 data points but\n",
    "#on the right hand side there are data points that have higher value for price per sqft but\n",
    "#count of these data points is very tiny compared to 12000 hence we can hardly see any bar\n",
    "#Using log scale can make visualization little better\n",
    "plt.hist(df.total_sqft, bins=20, rwidth=0.8)\n",
    "plt.xlabel('price')\n",
    "plt.ylabel('Count')\n",
    "plt.yscale('log')\n",
    "plt.show()"
   ]
  },
  {
   "cell_type": "code",
   "execution_count": 30,
   "id": "20e38c1d",
   "metadata": {},
   "outputs": [
    {
     "data": {
      "text/plain": [
       "(120.0, 60134.20000000435)"
      ]
     },
     "execution_count": 30,
     "metadata": {},
     "output_type": "execute_result"
    }
   ],
   "source": [
    "#datanın %99,9. ve %0,01.i değerlerini alıp bunları alt ve üst sınır belirliyoruz\n",
    "lower_limit, upper_limit = df.price.quantile([0.001, 0.999])\n",
    "lower_limit, upper_limit"
   ]
  },
  {
   "cell_type": "code",
   "execution_count": 31,
   "id": "1c16169d",
   "metadata": {},
   "outputs": [
    {
     "data": {
      "text/plain": [
       "(12892, 8)"
      ]
     },
     "execution_count": 31,
     "metadata": {},
     "output_type": "execute_result"
    }
   ],
   "source": [
    "#100küsür değer silindi\n",
    "df = df[(df.price<upper_limit) & (df.price>lower_limit)]\n",
    "df.shape"
   ]
  },
  {
   "cell_type": "code",
   "execution_count": 32,
   "id": "6a7c441f",
   "metadata": {},
   "outputs": [
    {
     "data": {
      "text/html": [
       "<div>\n",
       "<style scoped>\n",
       "    .dataframe tbody tr th:only-of-type {\n",
       "        vertical-align: middle;\n",
       "    }\n",
       "\n",
       "    .dataframe tbody tr th {\n",
       "        vertical-align: top;\n",
       "    }\n",
       "\n",
       "    .dataframe thead th {\n",
       "        text-align: right;\n",
       "    }\n",
       "</style>\n",
       "<table border=\"1\" class=\"dataframe\">\n",
       "  <thead>\n",
       "    <tr style=\"text-align: right;\">\n",
       "      <th></th>\n",
       "      <th>location</th>\n",
       "      <th>size</th>\n",
       "      <th>total_sqft</th>\n",
       "      <th>bath</th>\n",
       "      <th>price</th>\n",
       "      <th>bhk</th>\n",
       "      <th>price_per_sqft</th>\n",
       "      <th>zscore</th>\n",
       "    </tr>\n",
       "  </thead>\n",
       "  <tbody>\n",
       "    <tr>\n",
       "      <th>635</th>\n",
       "      <td>Chikkalasandra</td>\n",
       "      <td>2 BHK</td>\n",
       "      <td>8750</td>\n",
       "      <td>20</td>\n",
       "      <td>528</td>\n",
       "      <td>2</td>\n",
       "      <td>6034</td>\n",
       "      <td>-0.426606</td>\n",
       "    </tr>\n",
       "    <tr>\n",
       "      <th>6851</th>\n",
       "      <td>Sonnenahalli</td>\n",
       "      <td>3 BHK</td>\n",
       "      <td>13100</td>\n",
       "      <td>20</td>\n",
       "      <td>460</td>\n",
       "      <td>3</td>\n",
       "      <td>3511</td>\n",
       "      <td>-0.450304</td>\n",
       "    </tr>\n",
       "    <tr>\n",
       "      <th>1003</th>\n",
       "      <td>Chandapura</td>\n",
       "      <td>2 Bedroom</td>\n",
       "      <td>14000</td>\n",
       "      <td>20</td>\n",
       "      <td>600</td>\n",
       "      <td>2</td>\n",
       "      <td>4285</td>\n",
       "      <td>-0.401514</td>\n",
       "    </tr>\n",
       "    <tr>\n",
       "      <th>4012</th>\n",
       "      <td>EPIP Zone</td>\n",
       "      <td>2 BHK</td>\n",
       "      <td>12800</td>\n",
       "      <td>20</td>\n",
       "      <td>690</td>\n",
       "      <td>2</td>\n",
       "      <td>5390</td>\n",
       "      <td>-0.370149</td>\n",
       "    </tr>\n",
       "    <tr>\n",
       "      <th>10209</th>\n",
       "      <td>Doddaballapur</td>\n",
       "      <td>3 Bedroom</td>\n",
       "      <td>24400</td>\n",
       "      <td>30</td>\n",
       "      <td>1420</td>\n",
       "      <td>3</td>\n",
       "      <td>5819</td>\n",
       "      <td>-0.115746</td>\n",
       "    </tr>\n",
       "  </tbody>\n",
       "</table>\n",
       "</div>"
      ],
      "text/plain": [
       "             location       size  total_sqft  bath  price  bhk  \\\n",
       "635    Chikkalasandra      2 BHK        8750    20    528    2   \n",
       "6851     Sonnenahalli      3 BHK       13100    20    460    3   \n",
       "1003       Chandapura  2 Bedroom       14000    20    600    2   \n",
       "4012        EPIP Zone      2 BHK       12800    20    690    2   \n",
       "10209   Doddaballapur  3 Bedroom       24400    30   1420    3   \n",
       "\n",
       "       price_per_sqft    zscore  \n",
       "635              6034 -0.426606  \n",
       "6851             3511 -0.450304  \n",
       "1003             4285 -0.401514  \n",
       "4012             5390 -0.370149  \n",
       "10209            5819 -0.115746  "
      ]
     },
     "execution_count": 32,
     "metadata": {},
     "output_type": "execute_result"
    }
   ],
   "source": [
    "#z score= (x-x.mean)/standart sapma\n",
    "df['zscore'] = (df.price-df.price.mean())/df.price.std()\n",
    "df.sample(5)"
   ]
  },
  {
   "cell_type": "code",
   "execution_count": 33,
   "id": "fb595682",
   "metadata": {},
   "outputs": [
    {
     "data": {
      "text/plain": [
       "(12851, 8)"
      ]
     },
     "execution_count": 33,
     "metadata": {},
     "output_type": "execute_result"
    }
   ],
   "source": [
    "#40küsür veri silindi\n",
    "df = df[(df.zscore>-4)&(df.zscore<4)]\n",
    "df.shape"
   ]
  },
  {
   "cell_type": "code",
   "execution_count": 34,
   "id": "7450a3e2",
   "metadata": {},
   "outputs": [
    {
     "data": {
      "image/png": "[encoded data removed]",
      "text/plain": [
       "<Figure size 432x288 with 1 Axes>"
      ]
     },
     "metadata": {
      "needs_background": "light"
     },
     "output_type": "display_data"
    }
   ],
   "source": [
    "plt.hist(df.total_sqft, bins=20, rwidth=0.8)\n",
    "plt.xlabel('price')\n",
    "plt.ylabel('Count')\n",
    "plt.show()"
   ]
  },
  {
   "cell_type": "code",
   "execution_count": 35,
   "id": "a0b699b2",
   "metadata": {},
   "outputs": [
    {
     "data": {
      "image/png": "[encoded data removed]",
      "text/plain": [
       "<Figure size 720x432 with 2 Axes>"
      ]
     },
     "metadata": {
      "needs_background": "light"
     },
     "output_type": "display_data"
    }
   ],
   "source": [
    "plt.figure(figsize = (10,6))\n",
    "sns.heatmap(df_main.corr(),annot=True,square=True,\n",
    "            cmap='RdBu',\n",
    "            vmax=1,\n",
    "            vmin=-1)\n",
    "plt.title('Correlations Between Variables',size=18);\n",
    "plt.xticks(size=13)\n",
    "plt.yticks(size=13)\n",
    "plt.show()"
   ]
  },
  {
   "cell_type": "code",
   "execution_count": 36,
   "id": "69399ebc",
   "metadata": {},
   "outputs": [
    {
     "data": {
      "image/png": "[encoded data removed]",
      "text/plain": [
       "<Figure size 720x432 with 2 Axes>"
      ]
     },
     "metadata": {
      "needs_background": "light"
     },
     "output_type": "display_data"
    }
   ],
   "source": [
    "df.drop([\"zscore\"],axis=1,inplace=True)\n",
    "plt.figure(figsize = (10,6))\n",
    "sns.heatmap(df.corr(),annot=True,square=True,\n",
    "            cmap='RdBu',\n",
    "            vmax=1,\n",
    "            vmin=-1)\n",
    "plt.title('Correlations Between Variables',size=18);\n",
    "plt.xticks(size=13)\n",
    "plt.yticks(size=13)\n",
    "plt.show()"
   ]
  },
  {
   "cell_type": "code",
   "execution_count": 37,
   "id": "556e5365",
   "metadata": {},
   "outputs": [
    {
     "data": {
      "text/html": [
       "<div>\n",
       "<style scoped>\n",
       "    .dataframe tbody tr th:only-of-type {\n",
       "        vertical-align: middle;\n",
       "    }\n",
       "\n",
       "    .dataframe tbody tr th {\n",
       "        vertical-align: top;\n",
       "    }\n",
       "\n",
       "    .dataframe thead th {\n",
       "        text-align: right;\n",
       "    }\n",
       "</style>\n",
       "<table border=\"1\" class=\"dataframe\">\n",
       "  <thead>\n",
       "    <tr style=\"text-align: right;\">\n",
       "      <th></th>\n",
       "      <th>count</th>\n",
       "      <th>mean</th>\n",
       "      <th>std</th>\n",
       "      <th>min</th>\n",
       "      <th>25%</th>\n",
       "      <th>50%</th>\n",
       "      <th>75%</th>\n",
       "      <th>max</th>\n",
       "    </tr>\n",
       "  </thead>\n",
       "  <tbody>\n",
       "    <tr>\n",
       "      <th>total_sqft</th>\n",
       "      <td>12851.0</td>\n",
       "      <td>15011.008482</td>\n",
       "      <td>7523.553465</td>\n",
       "      <td>3750.0</td>\n",
       "      <td>11000.0</td>\n",
       "      <td>12700.0</td>\n",
       "      <td>16550.0</td>\n",
       "      <td>62000.0</td>\n",
       "    </tr>\n",
       "    <tr>\n",
       "      <th>bath</th>\n",
       "      <td>12851.0</td>\n",
       "      <td>26.579255</td>\n",
       "      <td>12.287174</td>\n",
       "      <td>10.0</td>\n",
       "      <td>20.0</td>\n",
       "      <td>20.0</td>\n",
       "      <td>30.0</td>\n",
       "      <td>180.0</td>\n",
       "    </tr>\n",
       "    <tr>\n",
       "      <th>price</th>\n",
       "      <td>12851.0</td>\n",
       "      <td>1632.808886</td>\n",
       "      <td>1824.099844</td>\n",
       "      <td>125.0</td>\n",
       "      <td>550.0</td>\n",
       "      <td>850.0</td>\n",
       "      <td>1780.0</td>\n",
       "      <td>12000.0</td>\n",
       "    </tr>\n",
       "    <tr>\n",
       "      <th>bhk</th>\n",
       "      <td>12851.0</td>\n",
       "      <td>2.772236</td>\n",
       "      <td>1.178812</td>\n",
       "      <td>1.0</td>\n",
       "      <td>2.0</td>\n",
       "      <td>3.0</td>\n",
       "      <td>3.0</td>\n",
       "      <td>18.0</td>\n",
       "    </tr>\n",
       "    <tr>\n",
       "      <th>price_per_sqft</th>\n",
       "      <td>12851.0</td>\n",
       "      <td>6440.115166</td>\n",
       "      <td>3461.609956</td>\n",
       "      <td>1379.0</td>\n",
       "      <td>4259.0</td>\n",
       "      <td>5416.0</td>\n",
       "      <td>7214.0</td>\n",
       "      <td>23214.0</td>\n",
       "    </tr>\n",
       "  </tbody>\n",
       "</table>\n",
       "</div>"
      ],
      "text/plain": [
       "                  count          mean          std     min      25%      50%  \\\n",
       "total_sqft      12851.0  15011.008482  7523.553465  3750.0  11000.0  12700.0   \n",
       "bath            12851.0     26.579255    12.287174    10.0     20.0     20.0   \n",
       "price           12851.0   1632.808886  1824.099844   125.0    550.0    850.0   \n",
       "bhk             12851.0      2.772236     1.178812     1.0      2.0      3.0   \n",
       "price_per_sqft  12851.0   6440.115166  3461.609956  1379.0   4259.0   5416.0   \n",
       "\n",
       "                    75%      max  \n",
       "total_sqft      16550.0  62000.0  \n",
       "bath               30.0    180.0  \n",
       "price            1780.0  12000.0  \n",
       "bhk                 3.0     18.0  \n",
       "price_per_sqft   7214.0  23214.0  "
      ]
     },
     "execution_count": 37,
     "metadata": {},
     "output_type": "execute_result"
    }
   ],
   "source": [
    "df.describe().T"
   ]
  },
  {
   "cell_type": "code",
   "execution_count": 43,
   "id": "fafd5a40",
   "metadata": {},
   "outputs": [],
   "source": [
    "df.drop([\"location\"],axis=1,inplace=True)"
   ]
  },
  {
   "cell_type": "code",
   "execution_count": 47,
   "id": "d4490e04",
   "metadata": {},
   "outputs": [],
   "source": [
    "df.drop([\"size\"],axis=1,inplace=True)"
   ]
  },
  {
   "cell_type": "code",
   "execution_count": 48,
   "id": "583fee8f",
   "metadata": {},
   "outputs": [],
   "source": [
    "import tensorflow as tf\n",
    "#model oluşturma\n",
    "from tensorflow.keras.models import Sequential\n",
    "#model içine katmanları hazırlama \n",
    "from tensorflow.keras.layers import Dense"
   ]
  },
  {
   "cell_type": "code",
   "execution_count": 49,
   "id": "82f83ef5",
   "metadata": {},
   "outputs": [],
   "source": [
    "#veriyi test/train olarak ikiye ayırma\n",
    "from sklearn.model_selection import train_test_split\n",
    "#fiyat=y bözellik=x bözellik2=x\n",
    "#y--> label(gitmemiz gerken özellik)\n",
    "#x-->feature (özelliklerimiz)\n",
    "y=df[\"price_per_sqft\"].values #numpy diziye çevirdik\n",
    "x=df.drop([\"price_per_sqft\"],axis=1).values\n",
    "x_train, x_test, y_train, y_test = train_test_split(x,y,test_size=0.33)"
   ]
  },
  {
   "cell_type": "code",
   "execution_count": 50,
   "id": "5cbd7a2f",
   "metadata": {},
   "outputs": [],
   "source": [
    "#Scailing (boyutlandırma)\n",
    "from sklearn.preprocessing import MinMaxScaler\n",
    "scaler=MinMaxScaler()\n",
    "scaler.fit(x_train)\n",
    "x_train=scaler.transform(x_train)\n",
    "x_test=scaler.transform(x_test)"
   ]
  },
  {
   "cell_type": "code",
   "execution_count": 54,
   "id": "f1f213aa",
   "metadata": {},
   "outputs": [],
   "source": [
    "from tensorflow.keras.callbacks import EarlyStopping\n",
    "model=Sequential()\n",
    "model.add(Dense(15,activation=\"relu\"))\n",
    "model.add(Dense(15,activation=\"relu\"))\n",
    "model.add(Dense(15,activation=\"relu\"))\n",
    "model.add(Dense(15,activation=\"relu\"))\n",
    "model.add(Dense(15,activation=\"relu\"))\n",
    "#final output\n",
    "model.add(Dense(1))\n",
    "#birleştirici #adam gibi olan şeyler \n",
    "model.compile(optimizer='rmsprop',loss=\"mse\")"
   ]
  },
  {
   "cell_type": "code",
   "execution_count": 55,
   "id": "3305f51f",
   "metadata": {},
   "outputs": [],
   "source": [
    "earlyStopping=EarlyStopping(monitor=\"val_loss\",mode=\"min\",verbose=1,patience=25)"
   ]
  },
  {
   "cell_type": "code",
   "execution_count": 56,
   "id": "677c9cd7",
   "metadata": {},
   "outputs": [
    {
     "name": "stdout",
     "output_type": "stream",
     "text": [
      "Epoch 1/300\n",
      "270/270 [==============================] - 1s 3ms/step - loss: 52871368.0000 - val_loss: 49202000.0000\n",
      "Epoch 2/300\n",
      "270/270 [==============================] - 1s 2ms/step - loss: 33780108.0000 - val_loss: 11675305.0000\n",
      "Epoch 3/300\n",
      "270/270 [==============================] - 1s 2ms/step - loss: 10036624.0000 - val_loss: 9701796.0000\n",
      "Epoch 4/300\n",
      "270/270 [==============================] - 1s 2ms/step - loss: 9818216.0000 - val_loss: 9589437.0000\n",
      "Epoch 5/300\n",
      "270/270 [==============================] - 1s 2ms/step - loss: 9717592.0000 - val_loss: 9478056.0000\n",
      "Epoch 6/300\n",
      "270/270 [==============================] - 1s 2ms/step - loss: 9632786.0000 - val_loss: 9386832.0000\n",
      "Epoch 7/300\n",
      "270/270 [==============================] - 1s 2ms/step - loss: 9558120.0000 - val_loss: 9328678.0000\n",
      "Epoch 8/300\n",
      "270/270 [==============================] - 1s 2ms/step - loss: 9496020.0000 - val_loss: 9274153.0000\n",
      "Epoch 9/300\n",
      "270/270 [==============================] - 1s 2ms/step - loss: 9438056.0000 - val_loss: 9216232.0000\n",
      "Epoch 10/300\n",
      "270/270 [==============================] - 1s 2ms/step - loss: 9381824.0000 - val_loss: 9157342.0000\n",
      "Epoch 11/300\n",
      "270/270 [==============================] - 1s 2ms/step - loss: 9312550.0000 - val_loss: 9091033.0000\n",
      "Epoch 12/300\n",
      "270/270 [==============================] - 1s 2ms/step - loss: 9252199.0000 - val_loss: 9038632.0000\n",
      "Epoch 13/300\n",
      "270/270 [==============================] - 1s 2ms/step - loss: 9158734.0000 - val_loss: 9008080.0000\n",
      "Epoch 14/300\n",
      "270/270 [==============================] - 1s 2ms/step - loss: 9063552.0000 - val_loss: 8820217.0000\n",
      "Epoch 15/300\n",
      "270/270 [==============================] - 1s 2ms/step - loss: 8934148.0000 - val_loss: 8685119.0000\n",
      "Epoch 16/300\n",
      "270/270 [==============================] - 1s 2ms/step - loss: 8784068.0000 - val_loss: 8561769.0000\n",
      "Epoch 17/300\n",
      "270/270 [==============================] - 1s 2ms/step - loss: 8585501.0000 - val_loss: 8321506.5000\n",
      "Epoch 18/300\n",
      "270/270 [==============================] - 1s 2ms/step - loss: 8368082.5000 - val_loss: 8088652.0000\n",
      "Epoch 19/300\n",
      "270/270 [==============================] - 1s 2ms/step - loss: 8082553.5000 - val_loss: 7794672.0000\n",
      "Epoch 20/300\n",
      "270/270 [==============================] - 1s 2ms/step - loss: 7755724.0000 - val_loss: 7435044.0000\n",
      "Epoch 21/300\n",
      "270/270 [==============================] - 1s 2ms/step - loss: 7342335.5000 - val_loss: 7035409.5000\n",
      "Epoch 22/300\n",
      "270/270 [==============================] - 1s 2ms/step - loss: 6854161.5000 - val_loss: 6618309.0000\n",
      "Epoch 23/300\n",
      "270/270 [==============================] - 1s 2ms/step - loss: 6295273.0000 - val_loss: 5936642.5000\n",
      "Epoch 24/300\n",
      "270/270 [==============================] - 1s 2ms/step - loss: 5664734.5000 - val_loss: 5299113.0000\n",
      "Epoch 25/300\n",
      "270/270 [==============================] - 0s 2ms/step - loss: 5010763.0000 - val_loss: 4728078.5000\n",
      "Epoch 26/300\n",
      "270/270 [==============================] - 1s 2ms/step - loss: 4469027.0000 - val_loss: 4293633.5000\n",
      "Epoch 27/300\n",
      "270/270 [==============================] - 1s 2ms/step - loss: 4095759.2500 - val_loss: 3971012.5000\n",
      "Epoch 28/300\n",
      "270/270 [==============================] - 0s 756us/step - loss: 3832878.5000 - val_loss: 3750178.0000\n",
      "Epoch 29/300\n",
      "270/270 [==============================] - 1s 2ms/step - loss: 3667951.5000 - val_loss: 3605170.0000\n",
      "Epoch 30/300\n",
      "270/270 [==============================] - 1s 2ms/step - loss: 3540326.2500 - val_loss: 3501383.0000\n",
      "Epoch 31/300\n",
      "270/270 [==============================] - 1s 2ms/step - loss: 3437751.7500 - val_loss: 3405775.2500\n",
      "Epoch 32/300\n",
      "270/270 [==============================] - 1s 2ms/step - loss: 3359272.0000 - val_loss: 3408030.5000\n",
      "Epoch 33/300\n",
      "270/270 [==============================] - 1s 2ms/step - loss: 3277545.7500 - val_loss: 3260480.2500\n",
      "Epoch 34/300\n",
      "270/270 [==============================] - 1s 2ms/step - loss: 3198189.7500 - val_loss: 3171936.2500\n",
      "Epoch 35/300\n",
      "270/270 [==============================] - 1s 2ms/step - loss: 3126686.2500 - val_loss: 3125743.7500\n",
      "Epoch 36/300\n",
      "270/270 [==============================] - 1s 2ms/step - loss: 3048553.0000 - val_loss: 2977224.2500\n",
      "Epoch 37/300\n",
      "270/270 [==============================] - 1s 2ms/step - loss: 2982776.7500 - val_loss: 2909436.2500\n",
      "Epoch 38/300\n",
      "270/270 [==============================] - 1s 2ms/step - loss: 2918622.2500 - val_loss: 2876406.2500\n",
      "Epoch 39/300\n",
      "270/270 [==============================] - 1s 2ms/step - loss: 2862852.0000 - val_loss: 2791466.0000\n",
      "Epoch 40/300\n",
      "270/270 [==============================] - 1s 2ms/step - loss: 2817071.7500 - val_loss: 2752974.2500\n",
      "Epoch 41/300\n",
      "270/270 [==============================] - 1s 2ms/step - loss: 2775356.0000 - val_loss: 2788111.0000\n",
      "Epoch 42/300\n",
      "270/270 [==============================] - 0s 2ms/step - loss: 2728244.0000 - val_loss: 2649809.0000\n",
      "Epoch 43/300\n",
      "270/270 [==============================] - 1s 2ms/step - loss: 2686641.5000 - val_loss: 2639603.0000\n",
      "Epoch 44/300\n",
      "270/270 [==============================] - 1s 2ms/step - loss: 2648191.5000 - val_loss: 2582995.5000\n",
      "Epoch 45/300\n",
      "270/270 [==============================] - 1s 2ms/step - loss: 2607743.5000 - val_loss: 2546972.5000\n",
      "Epoch 46/300\n",
      "270/270 [==============================] - 1s 2ms/step - loss: 2561942.0000 - val_loss: 2657965.7500\n",
      "Epoch 47/300\n",
      "270/270 [==============================] - 1s 2ms/step - loss: 2516487.7500 - val_loss: 2450102.5000\n",
      "Epoch 48/300\n",
      "270/270 [==============================] - 1s 2ms/step - loss: 2464904.2500 - val_loss: 2423926.2500\n",
      "Epoch 49/300\n",
      "270/270 [==============================] - 1s 2ms/step - loss: 2430193.5000 - val_loss: 2338692.5000\n",
      "Epoch 50/300\n",
      "270/270 [==============================] - 1s 2ms/step - loss: 2374458.2500 - val_loss: 2314758.0000\n",
      "Epoch 51/300\n",
      "270/270 [==============================] - 1s 2ms/step - loss: 2328957.2500 - val_loss: 2348369.5000\n",
      "Epoch 52/300\n",
      "270/270 [==============================] - 1s 2ms/step - loss: 2280307.0000 - val_loss: 2217996.0000\n",
      "Epoch 53/300\n",
      "270/270 [==============================] - 1s 2ms/step - loss: 2233799.7500 - val_loss: 2354974.7500\n",
      "Epoch 54/300\n",
      "270/270 [==============================] - 1s 2ms/step - loss: 2193333.2500 - val_loss: 2171737.2500\n",
      "Epoch 55/300\n",
      "270/270 [==============================] - 1s 2ms/step - loss: 2146402.7500 - val_loss: 2173054.5000\n",
      "Epoch 56/300\n",
      "270/270 [==============================] - 1s 2ms/step - loss: 2107476.0000 - val_loss: 2085433.6250\n",
      "Epoch 57/300\n",
      "270/270 [==============================] - 1s 2ms/step - loss: 2057454.3750 - val_loss: 2051581.7500\n",
      "Epoch 58/300\n",
      "270/270 [==============================] - 0s 1ms/step - loss: 2023664.7500 - val_loss: 2046274.8750\n",
      "Epoch 59/300\n",
      "270/270 [==============================] - 1s 2ms/step - loss: 1976298.0000 - val_loss: 2024098.3750\n",
      "Epoch 60/300\n",
      "270/270 [==============================] - 1s 2ms/step - loss: 1947514.5000 - val_loss: 1894631.2500\n",
      "Epoch 61/300\n",
      "270/270 [==============================] - 1s 2ms/step - loss: 1911226.1250 - val_loss: 1855355.0000\n",
      "Epoch 62/300\n",
      "270/270 [==============================] - 1s 2ms/step - loss: 1871492.2500 - val_loss: 1880757.8750\n",
      "Epoch 63/300\n",
      "270/270 [==============================] - 1s 2ms/step - loss: 1835817.3750 - val_loss: 2003742.8750\n",
      "Epoch 64/300\n",
      "270/270 [==============================] - 1s 2ms/step - loss: 1807363.7500 - val_loss: 1776525.6250\n",
      "Epoch 65/300\n",
      "270/270 [==============================] - 1s 2ms/step - loss: 1756200.8750 - val_loss: 1795215.0000\n",
      "Epoch 66/300\n",
      "270/270 [==============================] - 1s 2ms/step - loss: 1723803.6250 - val_loss: 1709459.2500\n",
      "Epoch 67/300\n",
      "270/270 [==============================] - 1s 2ms/step - loss: 1697372.3750 - val_loss: 1745731.1250\n",
      "Epoch 68/300\n",
      "270/270 [==============================] - 1s 2ms/step - loss: 1658803.6250 - val_loss: 1806350.7500\n",
      "Epoch 69/300\n",
      "270/270 [==============================] - 1s 2ms/step - loss: 1639423.3750 - val_loss: 1670024.3750\n",
      "Epoch 70/300\n",
      "270/270 [==============================] - 1s 2ms/step - loss: 1608447.1250 - val_loss: 1598782.8750\n",
      "Epoch 71/300\n",
      "270/270 [==============================] - 1s 2ms/step - loss: 1587318.8750 - val_loss: 1539521.1250\n",
      "Epoch 72/300\n",
      "270/270 [==============================] - 1s 2ms/step - loss: 1565693.5000 - val_loss: 1518617.6250\n",
      "Epoch 73/300\n",
      "270/270 [==============================] - 1s 2ms/step - loss: 1545101.3750 - val_loss: 1710707.3750\n",
      "Epoch 74/300\n",
      "270/270 [==============================] - 1s 2ms/step - loss: 1515079.3750 - val_loss: 1572868.1250\n",
      "Epoch 75/300\n",
      "270/270 [==============================] - 1s 2ms/step - loss: 1497972.2500 - val_loss: 1494081.3750\n",
      "Epoch 76/300\n",
      "270/270 [==============================] - 1s 2ms/step - loss: 1476870.5000 - val_loss: 1536840.5000\n",
      "Epoch 77/300\n",
      "270/270 [==============================] - 0s 1ms/step - loss: 1462604.8750 - val_loss: 1412516.2500\n",
      "Epoch 78/300\n",
      "270/270 [==============================] - ETA: 0s - loss: 1450146.125 - 1s 2ms/step - loss: 1445738.1250 - val_loss: 1555659.7500\n",
      "Epoch 79/300\n",
      "270/270 [==============================] - 1s 2ms/step - loss: 1427526.3750 - val_loss: 1457736.2500\n",
      "Epoch 80/300\n",
      "270/270 [==============================] - 0s 2ms/step - loss: 1413490.8750 - val_loss: 1448827.8750\n",
      "Epoch 81/300\n",
      "270/270 [==============================] - 1s 2ms/step - loss: 1395105.0000 - val_loss: 1352734.1250\n",
      "Epoch 82/300\n",
      "270/270 [==============================] - 1s 2ms/step - loss: 1371363.6250 - val_loss: 1354787.8750\n",
      "Epoch 83/300\n",
      "270/270 [==============================] - 0s 1ms/step - loss: 1363012.8750 - val_loss: 1370654.0000\n",
      "Epoch 84/300\n",
      "270/270 [==============================] - 0s 1ms/step - loss: 1342992.2500 - val_loss: 1294975.1250\n",
      "Epoch 85/300\n",
      "270/270 [==============================] - 1s 2ms/step - loss: 1335962.5000 - val_loss: 1326859.8750\n",
      "Epoch 86/300\n",
      "270/270 [==============================] - 1s 2ms/step - loss: 1322378.8750 - val_loss: 1267765.8750\n",
      "Epoch 87/300\n",
      "270/270 [==============================] - 1s 2ms/step - loss: 1303727.1250 - val_loss: 1316423.7500\n",
      "Epoch 88/300\n",
      "270/270 [==============================] - 1s 2ms/step - loss: 1289499.6250 - val_loss: 1513640.5000\n",
      "Epoch 89/300\n",
      "270/270 [==============================] - 1s 2ms/step - loss: 1283115.1250 - val_loss: 1257223.6250\n",
      "Epoch 90/300\n",
      "270/270 [==============================] - 1s 2ms/step - loss: 1273664.6250 - val_loss: 1619937.2500\n",
      "Epoch 91/300\n",
      "270/270 [==============================] - 1s 2ms/step - loss: 1265086.3750 - val_loss: 1347743.8750\n",
      "Epoch 92/300\n",
      "270/270 [==============================] - 1s 2ms/step - loss: 1251375.1250 - val_loss: 1281222.7500\n",
      "Epoch 93/300\n",
      "270/270 [==============================] - 1s 2ms/step - loss: 1235015.8750 - val_loss: 1242026.3750\n",
      "Epoch 94/300\n",
      "270/270 [==============================] - 1s 2ms/step - loss: 1220854.8750 - val_loss: 1252150.5000\n",
      "Epoch 95/300\n",
      "270/270 [==============================] - 1s 2ms/step - loss: 1211595.5000 - val_loss: 1171677.2500\n",
      "Epoch 96/300\n",
      "270/270 [==============================] - ETA: 0s - loss: 1182946.625 - 1s 2ms/step - loss: 1203087.2500 - val_loss: 1163321.7500\n",
      "Epoch 97/300\n",
      "270/270 [==============================] - 1s 2ms/step - loss: 1186318.8750 - val_loss: 1143688.3750\n",
      "Epoch 98/300\n",
      "270/270 [==============================] - 1s 2ms/step - loss: 1168548.1250 - val_loss: 1167921.2500\n",
      "Epoch 99/300\n",
      "270/270 [==============================] - 1s 2ms/step - loss: 1156885.5000 - val_loss: 1171915.0000\n",
      "Epoch 100/300\n",
      "270/270 [==============================] - 1s 2ms/step - loss: 1128752.1250 - val_loss: 1165077.8750\n",
      "Epoch 101/300\n",
      "270/270 [==============================] - 1s 2ms/step - loss: 1117392.7500 - val_loss: 1227107.5000\n",
      "Epoch 102/300\n",
      "270/270 [==============================] - 0s 2ms/step - loss: 1103195.6250 - val_loss: 1045123.5000\n",
      "Epoch 103/300\n",
      "270/270 [==============================] - 0s 1ms/step - loss: 1078821.3750 - val_loss: 1035522.6250\n",
      "Epoch 104/300\n",
      "270/270 [==============================] - 1s 2ms/step - loss: 1074952.5000 - val_loss: 1001532.5625\n",
      "Epoch 105/300\n",
      "270/270 [==============================] - 1s 2ms/step - loss: 1052654.2500 - val_loss: 1004083.5625\n",
      "Epoch 106/300\n",
      "270/270 [==============================] - 1s 2ms/step - loss: 1037209.7500 - val_loss: 1003604.0625\n",
      "Epoch 107/300\n",
      "270/270 [==============================] - 1s 2ms/step - loss: 1022014.1875 - val_loss: 1038564.6250\n",
      "Epoch 108/300\n",
      "270/270 [==============================] - 1s 2ms/step - loss: 1013978.8125 - val_loss: 959718.8750\n",
      "Epoch 109/300\n",
      "270/270 [==============================] - 1s 2ms/step - loss: 998331.2500 - val_loss: 952926.7500\n",
      "Epoch 110/300\n",
      "270/270 [==============================] - 1s 2ms/step - loss: 990670.6250 - val_loss: 960635.4375\n",
      "Epoch 111/300\n",
      "270/270 [==============================] - 0s 992us/step - loss: 993274.5000 - val_loss: 929220.6250\n",
      "Epoch 112/300\n",
      "270/270 [==============================] - 0s 1ms/step - loss: 978354.8750 - val_loss: 1055457.1250\n",
      "Epoch 113/300\n",
      "270/270 [==============================] - 0s 2ms/step - loss: 956714.3125 - val_loss: 1170318.0000\n",
      "Epoch 114/300\n",
      "270/270 [==============================] - 1s 2ms/step - loss: 949186.4375 - val_loss: 928435.1250\n",
      "Epoch 115/300\n",
      "270/270 [==============================] - 1s 2ms/step - loss: 936435.5000 - val_loss: 961330.2500\n",
      "Epoch 116/300\n",
      "270/270 [==============================] - 0s 2ms/step - loss: 913740.3125 - val_loss: 984569.8125\n",
      "Epoch 117/300\n",
      "270/270 [==============================] - 1s 2ms/step - loss: 906489.0000 - val_loss: 917373.1250\n",
      "Epoch 118/300\n",
      "270/270 [==============================] - 1s 2ms/step - loss: 890063.4375 - val_loss: 861588.1250\n",
      "Epoch 119/300\n",
      "270/270 [==============================] - 1s 2ms/step - loss: 864750.9375 - val_loss: 873806.5625\n",
      "Epoch 120/300\n",
      "270/270 [==============================] - 1s 2ms/step - loss: 844874.2500 - val_loss: 838604.5000\n",
      "Epoch 121/300\n",
      "270/270 [==============================] - 1s 2ms/step - loss: 816261.7500 - val_loss: 864953.0000\n",
      "Epoch 122/300\n",
      "270/270 [==============================] - 1s 2ms/step - loss: 806374.1875 - val_loss: 885741.5000\n",
      "Epoch 123/300\n",
      "270/270 [==============================] - 1s 2ms/step - loss: 771674.4375 - val_loss: 794873.6250\n",
      "Epoch 124/300\n",
      "270/270 [==============================] - 1s 2ms/step - loss: 748573.3125 - val_loss: 1089674.2500\n",
      "Epoch 125/300\n",
      "270/270 [==============================] - 1s 2ms/step - loss: 724194.7500 - val_loss: 776175.8125\n",
      "Epoch 126/300\n",
      "270/270 [==============================] - 1s 2ms/step - loss: 696776.5000 - val_loss: 730107.6250\n",
      "Epoch 127/300\n",
      "270/270 [==============================] - 1s 2ms/step - loss: 665112.1250 - val_loss: 746687.6250\n",
      "Epoch 128/300\n",
      "270/270 [==============================] - 1s 2ms/step - loss: 649403.6875 - val_loss: 658853.6875\n",
      "Epoch 129/300\n",
      "270/270 [==============================] - 1s 2ms/step - loss: 623550.5000 - val_loss: 700961.8125\n",
      "Epoch 130/300\n",
      "270/270 [==============================] - 1s 2ms/step - loss: 599687.6875 - val_loss: 677518.1250\n",
      "Epoch 131/300\n",
      "270/270 [==============================] - 1s 2ms/step - loss: 584481.0000 - val_loss: 587543.9375\n",
      "Epoch 132/300\n",
      "270/270 [==============================] - 1s 2ms/step - loss: 562994.3125 - val_loss: 589260.8750\n",
      "Epoch 133/300\n",
      "270/270 [==============================] - 1s 2ms/step - loss: 543329.2500 - val_loss: 532202.0000\n",
      "Epoch 134/300\n",
      "270/270 [==============================] - 1s 2ms/step - loss: 522423.9375 - val_loss: 510537.3438\n",
      "Epoch 135/300\n",
      "270/270 [==============================] - 1s 2ms/step - loss: 505197.4688 - val_loss: 501044.8438\n",
      "Epoch 136/300\n",
      "270/270 [==============================] - 1s 2ms/step - loss: 484394.9062 - val_loss: 503268.1875\n",
      "Epoch 137/300\n",
      "270/270 [==============================] - 1s 2ms/step - loss: 461399.1562 - val_loss: 461610.5938\n",
      "Epoch 138/300\n",
      "270/270 [==============================] - 1s 2ms/step - loss: 450898.4375 - val_loss: 452225.7812\n",
      "Epoch 139/300\n",
      "270/270 [==============================] - 1s 2ms/step - loss: 437486.5312 - val_loss: 429417.9375\n",
      "Epoch 140/300\n",
      "270/270 [==============================] - 1s 2ms/step - loss: 418677.1562 - val_loss: 731130.6875\n",
      "Epoch 141/300\n",
      "270/270 [==============================] - 1s 2ms/step - loss: 411941.8438 - val_loss: 409693.5312\n",
      "Epoch 142/300\n",
      "270/270 [==============================] - 1s 2ms/step - loss: 399006.5312 - val_loss: 398688.8438\n",
      "Epoch 143/300\n",
      "270/270 [==============================] - 1s 2ms/step - loss: 380442.0625 - val_loss: 423697.9062\n",
      "Epoch 144/300\n",
      "270/270 [==============================] - 1s 2ms/step - loss: 380116.1875 - val_loss: 467184.5000\n",
      "Epoch 145/300\n",
      "270/270 [==============================] - 1s 2ms/step - loss: 371501.3125 - val_loss: 684417.7500\n",
      "Epoch 146/300\n",
      "270/270 [==============================] - 1s 2ms/step - loss: 368930.0938 - val_loss: 412016.5000\n",
      "Epoch 147/300\n",
      "270/270 [==============================] - 1s 2ms/step - loss: 359265.0312 - val_loss: 363653.2188\n",
      "Epoch 148/300\n",
      "270/270 [==============================] - 1s 2ms/step - loss: 350699.4375 - val_loss: 361859.1250\n",
      "Epoch 149/300\n",
      "270/270 [==============================] - 1s 2ms/step - loss: 341856.6562 - val_loss: 372089.4375\n",
      "Epoch 150/300\n",
      "270/270 [==============================] - 1s 2ms/step - loss: 334977.9062 - val_loss: 360129.5938\n",
      "Epoch 151/300\n",
      "270/270 [==============================] - 1s 2ms/step - loss: 327665.5938 - val_loss: 494641.0000\n",
      "Epoch 152/300\n",
      "270/270 [==============================] - 1s 2ms/step - loss: 329806.1562 - val_loss: 381604.7188\n",
      "Epoch 153/300\n",
      "270/270 [==============================] - 1s 2ms/step - loss: 323396.0625 - val_loss: 330759.6562\n",
      "Epoch 154/300\n",
      "270/270 [==============================] - 0s 2ms/step - loss: 312184.7188 - val_loss: 342584.1250\n",
      "Epoch 155/300\n",
      "270/270 [==============================] - 1s 2ms/step - loss: 302760.1250 - val_loss: 691592.2500\n",
      "Epoch 156/300\n",
      "270/270 [==============================] - 1s 2ms/step - loss: 308821.5938 - val_loss: 718832.1250\n",
      "Epoch 157/300\n",
      "270/270 [==============================] - 0s 2ms/step - loss: 299402.5000 - val_loss: 575971.6875\n",
      "Epoch 158/300\n",
      "270/270 [==============================] - 1s 2ms/step - loss: 289811.4375 - val_loss: 307559.9062\n",
      "Epoch 159/300\n",
      "270/270 [==============================] - 0s 2ms/step - loss: 288143.0312 - val_loss: 300657.2812\n",
      "Epoch 160/300\n",
      "270/270 [==============================] - 1s 2ms/step - loss: 283756.4375 - val_loss: 345571.1875\n",
      "Epoch 161/300\n",
      "270/270 [==============================] - 1s 2ms/step - loss: 280542.4375 - val_loss: 302350.6875\n",
      "Epoch 162/300\n",
      "270/270 [==============================] - 1s 2ms/step - loss: 276542.5000 - val_loss: 323818.8750\n",
      "Epoch 163/300\n",
      "270/270 [==============================] - 1s 2ms/step - loss: 266273.6562 - val_loss: 307291.2188\n",
      "Epoch 164/300\n",
      "270/270 [==============================] - 1s 2ms/step - loss: 271560.5938 - val_loss: 364647.1250\n",
      "Epoch 165/300\n",
      "270/270 [==============================] - 1s 2ms/step - loss: 258724.2969 - val_loss: 442817.0312\n",
      "Epoch 166/300\n",
      "270/270 [==============================] - 1s 2ms/step - loss: 262338.4688 - val_loss: 288376.2500\n",
      "Epoch 167/300\n",
      "270/270 [==============================] - 1s 2ms/step - loss: 255239.1094 - val_loss: 287728.2812\n",
      "Epoch 168/300\n",
      "270/270 [==============================] - 1s 2ms/step - loss: 251120.0000 - val_loss: 560296.1250\n",
      "Epoch 169/300\n",
      "270/270 [==============================] - 1s 2ms/step - loss: 248767.6250 - val_loss: 295014.3125\n",
      "Epoch 170/300\n",
      "270/270 [==============================] - 1s 2ms/step - loss: 245234.2969 - val_loss: 283540.4688\n",
      "Epoch 171/300\n",
      "270/270 [==============================] - 1s 2ms/step - loss: 241325.5469 - val_loss: 313874.1875\n",
      "Epoch 172/300\n",
      "270/270 [==============================] - 1s 2ms/step - loss: 239528.7500 - val_loss: 433827.8438\n",
      "Epoch 173/300\n",
      "270/270 [==============================] - 0s 2ms/step - loss: 235405.3750 - val_loss: 457585.7500\n",
      "Epoch 174/300\n",
      "270/270 [==============================] - 1s 2ms/step - loss: 233217.3438 - val_loss: 261151.1406\n",
      "Epoch 175/300\n",
      "270/270 [==============================] - 1s 2ms/step - loss: 230364.0156 - val_loss: 729323.8750\n",
      "Epoch 176/300\n",
      "270/270 [==============================] - 0s 2ms/step - loss: 226461.6875 - val_loss: 322006.2500\n",
      "Epoch 177/300\n",
      "270/270 [==============================] - 1s 2ms/step - loss: 225951.5156 - val_loss: 242514.3125\n",
      "Epoch 178/300\n",
      "270/270 [==============================] - 1s 2ms/step - loss: 220986.3281 - val_loss: 343735.0312\n",
      "Epoch 179/300\n",
      "270/270 [==============================] - 1s 2ms/step - loss: 216925.5938 - val_loss: 258220.1562\n",
      "Epoch 180/300\n",
      "270/270 [==============================] - 1s 2ms/step - loss: 221663.1250 - val_loss: 304434.7500\n",
      "Epoch 181/300\n",
      "270/270 [==============================] - 1s 2ms/step - loss: 214767.8125 - val_loss: 250294.0625\n",
      "Epoch 182/300\n",
      "270/270 [==============================] - 1s 2ms/step - loss: 213008.5156 - val_loss: 246869.7969\n",
      "Epoch 183/300\n",
      "270/270 [==============================] - 1s 2ms/step - loss: 211002.6719 - val_loss: 240923.6562\n",
      "Epoch 184/300\n",
      "270/270 [==============================] - 1s 2ms/step - loss: 209191.9062 - val_loss: 258698.3281\n",
      "Epoch 185/300\n",
      "270/270 [==============================] - 1s 2ms/step - loss: 206628.2031 - val_loss: 237011.5625\n",
      "Epoch 186/300\n",
      "270/270 [==============================] - 1s 2ms/step - loss: 204332.0625 - val_loss: 226389.4688\n",
      "Epoch 187/300\n",
      "270/270 [==============================] - 0s 2ms/step - loss: 198988.4062 - val_loss: 236480.9531\n",
      "Epoch 188/300\n",
      "270/270 [==============================] - 1s 2ms/step - loss: 200374.5625 - val_loss: 326537.6250\n",
      "Epoch 189/300\n",
      "270/270 [==============================] - 1s 2ms/step - loss: 200278.3438 - val_loss: 282099.8438\n",
      "Epoch 190/300\n",
      "270/270 [==============================] - 1s 2ms/step - loss: 197017.8594 - val_loss: 236862.5781\n",
      "Epoch 191/300\n",
      "270/270 [==============================] - 1s 2ms/step - loss: 194389.1875 - val_loss: 237673.1094\n",
      "Epoch 192/300\n",
      "270/270 [==============================] - 1s 2ms/step - loss: 195673.5781 - val_loss: 292046.7812\n",
      "Epoch 193/300\n",
      "270/270 [==============================] - 1s 2ms/step - loss: 194241.6562 - val_loss: 364783.9688\n",
      "Epoch 194/300\n",
      "270/270 [==============================] - 1s 2ms/step - loss: 192076.8750 - val_loss: 261851.6562\n",
      "Epoch 195/300\n",
      "270/270 [==============================] - 1s 2ms/step - loss: 187113.0625 - val_loss: 235707.9844\n",
      "Epoch 196/300\n",
      "270/270 [==============================] - 1s 2ms/step - loss: 185623.6719 - val_loss: 234043.7344\n",
      "Epoch 197/300\n",
      "270/270 [==============================] - 1s 2ms/step - loss: 182650.6875 - val_loss: 247523.7500\n",
      "Epoch 198/300\n",
      "270/270 [==============================] - 1s 2ms/step - loss: 181952.9688 - val_loss: 221288.9375\n",
      "Epoch 199/300\n",
      "270/270 [==============================] - 1s 2ms/step - loss: 183190.0781 - val_loss: 211861.4219\n",
      "Epoch 200/300\n",
      "270/270 [==============================] - 1s 2ms/step - loss: 179468.7031 - val_loss: 224544.9688\n",
      "Epoch 201/300\n",
      "270/270 [==============================] - 1s 2ms/step - loss: 176646.5781 - val_loss: 214236.5156\n",
      "Epoch 202/300\n",
      "270/270 [==============================] - 1s 2ms/step - loss: 182808.7500 - val_loss: 569410.1875\n",
      "Epoch 203/300\n",
      "270/270 [==============================] - 1s 2ms/step - loss: 179733.3594 - val_loss: 474181.3750\n",
      "Epoch 204/300\n",
      "270/270 [==============================] - 1s 2ms/step - loss: 175011.2188 - val_loss: 257686.8125\n",
      "Epoch 205/300\n",
      "270/270 [==============================] - 1s 2ms/step - loss: 177659.9375 - val_loss: 231647.8594\n",
      "Epoch 206/300\n",
      "270/270 [==============================] - 1s 2ms/step - loss: 177344.2812 - val_loss: 406333.3438\n",
      "Epoch 207/300\n",
      "270/270 [==============================] - 1s 2ms/step - loss: 169221.7656 - val_loss: 201085.5312\n",
      "Epoch 208/300\n",
      "270/270 [==============================] - 1s 2ms/step - loss: 171089.0938 - val_loss: 229813.3750\n",
      "Epoch 209/300\n",
      "270/270 [==============================] - 1s 2ms/step - loss: 172168.4219 - val_loss: 249054.3750\n",
      "Epoch 210/300\n",
      "270/270 [==============================] - 0s 1ms/step - loss: 171160.8438 - val_loss: 294736.1250\n",
      "Epoch 211/300\n",
      "270/270 [==============================] - 1s 2ms/step - loss: 168789.1875 - val_loss: 248425.7656\n",
      "Epoch 212/300\n",
      "270/270 [==============================] - 1s 2ms/step - loss: 171377.4062 - val_loss: 252012.5625\n",
      "Epoch 213/300\n",
      "270/270 [==============================] - 1s 2ms/step - loss: 168740.2188 - val_loss: 214378.8438\n",
      "Epoch 214/300\n",
      "270/270 [==============================] - 1s 2ms/step - loss: 167363.7812 - val_loss: 213743.5312\n",
      "Epoch 215/300\n",
      "270/270 [==============================] - 1s 2ms/step - loss: 165544.5156 - val_loss: 229560.0781\n",
      "Epoch 216/300\n",
      "270/270 [==============================] - 1s 2ms/step - loss: 166268.5781 - val_loss: 277407.8750\n",
      "Epoch 217/300\n",
      "270/270 [==============================] - 1s 2ms/step - loss: 163960.1562 - val_loss: 215885.1562\n",
      "Epoch 218/300\n",
      "270/270 [==============================] - 1s 2ms/step - loss: 163735.1406 - val_loss: 206632.6562\n",
      "Epoch 219/300\n",
      "270/270 [==============================] - 1s 2ms/step - loss: 163060.9219 - val_loss: 204298.0625\n",
      "Epoch 220/300\n",
      "270/270 [==============================] - 1s 2ms/step - loss: 161004.0938 - val_loss: 512875.3750\n",
      "Epoch 221/300\n",
      "270/270 [==============================] - 1s 2ms/step - loss: 162137.3906 - val_loss: 208013.0469\n",
      "Epoch 222/300\n",
      "270/270 [==============================] - 1s 2ms/step - loss: 159816.7344 - val_loss: 252673.1719\n",
      "Epoch 223/300\n",
      "270/270 [==============================] - 1s 2ms/step - loss: 154623.5312 - val_loss: 217872.1094\n",
      "Epoch 224/300\n",
      "270/270 [==============================] - 1s 2ms/step - loss: 161465.5781 - val_loss: 217500.2188\n",
      "Epoch 225/300\n",
      "270/270 [==============================] - 0s 1ms/step - loss: 157543.0625 - val_loss: 218641.8125\n",
      "Epoch 226/300\n",
      "270/270 [==============================] - 1s 2ms/step - loss: 153383.0000 - val_loss: 214057.0469\n",
      "Epoch 227/300\n",
      "270/270 [==============================] - 1s 2ms/step - loss: 147616.3125 - val_loss: 266324.4062\n",
      "Epoch 228/300\n",
      "270/270 [==============================] - 1s 2ms/step - loss: 153655.8594 - val_loss: 672218.8125\n",
      "Epoch 229/300\n",
      "270/270 [==============================] - 1s 2ms/step - loss: 154548.9688 - val_loss: 194388.3906\n",
      "Epoch 230/300\n",
      "270/270 [==============================] - 1s 2ms/step - loss: 151328.3438 - val_loss: 218053.6094\n",
      "Epoch 231/300\n",
      "270/270 [==============================] - 1s 2ms/step - loss: 152961.3750 - val_loss: 395632.2812\n",
      "Epoch 232/300\n",
      "270/270 [==============================] - 1s 2ms/step - loss: 152053.4375 - val_loss: 428266.9062\n",
      "Epoch 233/300\n",
      "270/270 [==============================] - 1s 2ms/step - loss: 153142.4219 - val_loss: 201546.1094\n",
      "Epoch 234/300\n",
      "270/270 [==============================] - 1s 2ms/step - loss: 150147.0000 - val_loss: 214325.1250\n",
      "Epoch 235/300\n",
      "270/270 [==============================] - 1s 2ms/step - loss: 146529.5156 - val_loss: 247735.6719\n",
      "Epoch 236/300\n",
      "270/270 [==============================] - 1s 2ms/step - loss: 151853.0156 - val_loss: 202204.7969\n",
      "Epoch 237/300\n",
      "270/270 [==============================] - 1s 2ms/step - loss: 145481.6875 - val_loss: 179469.2188\n",
      "Epoch 238/300\n",
      "270/270 [==============================] - 0s 1ms/step - loss: 149876.2969 - val_loss: 195259.2031\n",
      "Epoch 239/300\n",
      "270/270 [==============================] - 1s 2ms/step - loss: 144910.3438 - val_loss: 321699.1562\n",
      "Epoch 240/300\n",
      "270/270 [==============================] - 1s 2ms/step - loss: 144583.3906 - val_loss: 301903.8750\n",
      "Epoch 241/300\n",
      "270/270 [==============================] - 1s 2ms/step - loss: 146205.7969 - val_loss: 200449.0625\n",
      "Epoch 242/300\n",
      "270/270 [==============================] - 1s 2ms/step - loss: 145769.7500 - val_loss: 181887.4688\n",
      "Epoch 243/300\n",
      "270/270 [==============================] - 1s 2ms/step - loss: 143554.6094 - val_loss: 174913.9688\n",
      "Epoch 244/300\n",
      "270/270 [==============================] - 1s 2ms/step - loss: 144252.7031 - val_loss: 205698.0625\n",
      "Epoch 245/300\n",
      "270/270 [==============================] - 1s 2ms/step - loss: 145840.1719 - val_loss: 211302.7031\n",
      "Epoch 246/300\n",
      "270/270 [==============================] - 1s 2ms/step - loss: 144534.6562 - val_loss: 298108.5625\n",
      "Epoch 247/300\n",
      "270/270 [==============================] - 1s 2ms/step - loss: 139055.3594 - val_loss: 225906.9844\n",
      "Epoch 248/300\n",
      "270/270 [==============================] - 1s 2ms/step - loss: 141915.2500 - val_loss: 308382.2188\n",
      "Epoch 249/300\n",
      "270/270 [==============================] - 1s 2ms/step - loss: 144407.7344 - val_loss: 321909.7500\n",
      "Epoch 250/300\n",
      "270/270 [==============================] - 1s 2ms/step - loss: 139150.3750 - val_loss: 203838.2969\n",
      "Epoch 251/300\n",
      "270/270 [==============================] - 1s 2ms/step - loss: 138759.5781 - val_loss: 236595.7188\n",
      "Epoch 252/300\n",
      "270/270 [==============================] - 1s 2ms/step - loss: 144172.3281 - val_loss: 316573.0938\n",
      "Epoch 253/300\n",
      "270/270 [==============================] - 1s 2ms/step - loss: 139634.9844 - val_loss: 180808.9375\n",
      "Epoch 254/300\n",
      "270/270 [==============================] - 1s 2ms/step - loss: 142432.8438 - val_loss: 200987.8750\n",
      "Epoch 255/300\n",
      "270/270 [==============================] - 1s 2ms/step - loss: 136528.4531 - val_loss: 321871.0625\n",
      "Epoch 256/300\n",
      "270/270 [==============================] - 1s 2ms/step - loss: 136423.9688 - val_loss: 213444.6250\n",
      "Epoch 257/300\n",
      "270/270 [==============================] - 1s 2ms/step - loss: 132180.8125 - val_loss: 217375.7812\n",
      "Epoch 258/300\n",
      "270/270 [==============================] - 1s 2ms/step - loss: 134089.5156 - val_loss: 196316.0312\n",
      "Epoch 259/300\n",
      "270/270 [==============================] - 1s 2ms/step - loss: 136101.4219 - val_loss: 180219.3438\n",
      "Epoch 260/300\n",
      "270/270 [==============================] - 0s 2ms/step - loss: 134893.3438 - val_loss: 249376.1250\n",
      "Epoch 261/300\n",
      "270/270 [==============================] - 1s 2ms/step - loss: 135910.4844 - val_loss: 250058.6406\n",
      "Epoch 262/300\n",
      "270/270 [==============================] - 1s 2ms/step - loss: 132153.6094 - val_loss: 177999.2969\n",
      "Epoch 263/300\n",
      "270/270 [==============================] - 1s 2ms/step - loss: 131049.6094 - val_loss: 210064.6562\n",
      "Epoch 264/300\n",
      "270/270 [==============================] - 1s 2ms/step - loss: 127162.5312 - val_loss: 273677.7500\n",
      "Epoch 265/300\n",
      "270/270 [==============================] - 1s 2ms/step - loss: 131518.0938 - val_loss: 187137.0469\n",
      "Epoch 266/300\n",
      "270/270 [==============================] - 1s 2ms/step - loss: 134688.6094 - val_loss: 198737.7969\n",
      "Epoch 267/300\n",
      "270/270 [==============================] - ETA: 0s - loss: 129886.53 - 1s 2ms/step - loss: 127730.6953 - val_loss: 198498.2656\n",
      "Epoch 268/300\n",
      "270/270 [==============================] - 1s 2ms/step - loss: 130114.8516 - val_loss: 191150.4688\n",
      "Epoch 00268: early stopping\n"
     ]
    },
    {
     "data": {
      "text/plain": [
       "<tensorflow.python.keras.callbacks.History at 0x1adb951e788>"
      ]
     },
     "execution_count": 56,
     "metadata": {},
     "output_type": "execute_result"
    }
   ],
   "source": [
    "model.fit(x=x_train,y=y_train,epochs=300,validation_data=(x_test,y_test),verbose=1,callbacks=[earlyStopping])"
   ]
  },
  {
   "cell_type": "code",
   "execution_count": 57,
   "id": "a7bc1ba7",
   "metadata": {},
   "outputs": [],
   "source": [
    "modelKaybi=pd.DataFrame(model.history.history)"
   ]
  },
  {
   "cell_type": "code",
   "execution_count": 58,
   "id": "ce8738de",
   "metadata": {},
   "outputs": [
    {
     "data": {
      "text/plain": [
       "<AxesSubplot:>"
      ]
     },
     "execution_count": 58,
     "metadata": {},
     "output_type": "execute_result"
    },
    {
     "data": {
      "image/png": "[encoded data removed]",
      "text/plain": [
       "<Figure size 432x288 with 1 Axes>"
      ]
     },
     "metadata": {
      "needs_background": "light"
     },
     "output_type": "display_data"
    }
   ],
   "source": [
    "modelKaybi.plot()"
   ]
  },
  {
   "cell_type": "code",
   "execution_count": 59,
   "id": "d9d92666",
   "metadata": {},
   "outputs": [
    {
     "name": "stdout",
     "output_type": "stream",
     "text": [
      "270/270 [==============================] - 0s 962us/step - loss: 95069.6641\n",
      "133/133 [==============================] - 0s 935us/step - loss: 191150.4688\n"
     ]
    }
   ],
   "source": [
    "#train ve test verilerinin loss karşılaştırmaları\n",
    "trainlose=model.evaluate(x_train,y_train)\n",
    "testloss=model.evaluate(x_test,y_test)\n",
    "#model değerlendirmesi\n",
    "test_Tahmin=model.predict(x_test)"
   ]
  },
  {
   "cell_type": "code",
   "execution_count": 60,
   "id": "bb922e67",
   "metadata": {},
   "outputs": [],
   "source": [
    "testDataframe_x=pd.DataFrame(test_Tahmin,columns=[\"Makine Tahmini\"])"
   ]
  },
  {
   "cell_type": "code",
   "execution_count": 61,
   "id": "d1064c15",
   "metadata": {},
   "outputs": [],
   "source": [
    "testDataframe_y=pd.DataFrame(y_test,columns=[\"Gerçek Fiyat\"])"
   ]
  },
  {
   "cell_type": "code",
   "execution_count": 62,
   "id": "3c20a0d5",
   "metadata": {},
   "outputs": [
    {
     "data": {
      "text/html": [
       "<div>\n",
       "<style scoped>\n",
       "    .dataframe tbody tr th:only-of-type {\n",
       "        vertical-align: middle;\n",
       "    }\n",
       "\n",
       "    .dataframe tbody tr th {\n",
       "        vertical-align: top;\n",
       "    }\n",
       "\n",
       "    .dataframe thead th {\n",
       "        text-align: right;\n",
       "    }\n",
       "</style>\n",
       "<table border=\"1\" class=\"dataframe\">\n",
       "  <thead>\n",
       "    <tr style=\"text-align: right;\">\n",
       "      <th></th>\n",
       "      <th>Makine Tahmini</th>\n",
       "      <th>Gerçek Fiyat</th>\n",
       "    </tr>\n",
       "  </thead>\n",
       "  <tbody>\n",
       "    <tr>\n",
       "      <th>0</th>\n",
       "      <td>5449.191895</td>\n",
       "      <td>5649</td>\n",
       "    </tr>\n",
       "    <tr>\n",
       "      <th>1</th>\n",
       "      <td>3637.956787</td>\n",
       "      <td>3661</td>\n",
       "    </tr>\n",
       "    <tr>\n",
       "      <th>2</th>\n",
       "      <td>8149.742676</td>\n",
       "      <td>8250</td>\n",
       "    </tr>\n",
       "    <tr>\n",
       "      <th>3</th>\n",
       "      <td>3871.180664</td>\n",
       "      <td>3936</td>\n",
       "    </tr>\n",
       "    <tr>\n",
       "      <th>4</th>\n",
       "      <td>5091.721191</td>\n",
       "      <td>4998</td>\n",
       "    </tr>\n",
       "    <tr>\n",
       "      <th>...</th>\n",
       "      <td>...</td>\n",
       "      <td>...</td>\n",
       "    </tr>\n",
       "    <tr>\n",
       "      <th>4236</th>\n",
       "      <td>8965.579102</td>\n",
       "      <td>9000</td>\n",
       "    </tr>\n",
       "    <tr>\n",
       "      <th>4237</th>\n",
       "      <td>7140.872070</td>\n",
       "      <td>7213</td>\n",
       "    </tr>\n",
       "    <tr>\n",
       "      <th>4238</th>\n",
       "      <td>4025.745361</td>\n",
       "      <td>4087</td>\n",
       "    </tr>\n",
       "    <tr>\n",
       "      <th>4239</th>\n",
       "      <td>3720.611084</td>\n",
       "      <td>3861</td>\n",
       "    </tr>\n",
       "    <tr>\n",
       "      <th>4240</th>\n",
       "      <td>5469.677246</td>\n",
       "      <td>5472</td>\n",
       "    </tr>\n",
       "  </tbody>\n",
       "</table>\n",
       "<p>4241 rows × 2 columns</p>\n",
       "</div>"
      ],
      "text/plain": [
       "      Makine Tahmini  Gerçek Fiyat\n",
       "0        5449.191895          5649\n",
       "1        3637.956787          3661\n",
       "2        8149.742676          8250\n",
       "3        3871.180664          3936\n",
       "4        5091.721191          4998\n",
       "...              ...           ...\n",
       "4236     8965.579102          9000\n",
       "4237     7140.872070          7213\n",
       "4238     4025.745361          4087\n",
       "4239     3720.611084          3861\n",
       "4240     5469.677246          5472\n",
       "\n",
       "[4241 rows x 2 columns]"
      ]
     },
     "execution_count": 62,
     "metadata": {},
     "output_type": "execute_result"
    }
   ],
   "source": [
    "karsilastirmaDF=pd.concat([testDataframe_x,testDataframe_y],axis=1)\n",
    "karsilastirmaDF"
   ]
  },
  {
   "cell_type": "code",
   "execution_count": 64,
   "id": "f8642c6d",
   "metadata": {},
   "outputs": [
    {
     "data": {
      "text/plain": [
       "<AxesSubplot:xlabel='Makine Tahmini', ylabel='Gerçek Fiyat'>"
      ]
     },
     "execution_count": 64,
     "metadata": {},
     "output_type": "execute_result"
    },
    {
     "data": {
      "image/png": "[encoded data removed]",
      "text/plain": [
       "<Figure size 432x288 with 1 Axes>"
      ]
     },
     "metadata": {
      "needs_background": "light"
     },
     "output_type": "display_data"
    }
   ],
   "source": [
    "sns.scatterplot(x=\"Makine Tahmini\",y=\"Gerçek Fiyat\",data=karsilastirmaDF)"
   ]
  },
  {
   "cell_type": "code",
   "execution_count": 66,
   "id": "84d53e12",
   "metadata": {},
   "outputs": [
    {
     "data": {
      "text/plain": [
       "126.51285482998924"
      ]
     },
     "execution_count": 66,
     "metadata": {},
     "output_type": "execute_result"
    }
   ],
   "source": [
    "from sklearn.metrics import mean_squared_error, mean_absolute_error\n",
    "tahminDizisi= model.predict(x_test)\n",
    "#+- 126 tahmin ediyor\n",
    "mean_absolute_error(y_test,tahminDizisi)"
   ]
  },
  {
   "cell_type": "code",
   "execution_count": null,
   "id": "91dbbac3",
   "metadata": {},
   "outputs": [],
   "source": []
  }
 ],
 "metadata": {
  "kernelspec": {
   "display_name": "Python 3 (ipykernel)",
   "language": "python",
   "name": "python3"
  },
  "language_info": {
   "codemirror_mode": {
    "name": "ipython",
    "version": 3
   },
   "file_extension": ".py",
   "mimetype": "text/x-python",
   "name": "python",
   "nbconvert_exporter": "python",
   "pygments_lexer": "ipython3",
   "version": "3.7.11"
  }
 },
 "nbformat": 4,
 "nbformat_minor": 5
}
